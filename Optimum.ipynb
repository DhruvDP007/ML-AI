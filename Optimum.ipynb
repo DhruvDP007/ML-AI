{
 "cells": [
  {
   "cell_type": "code",
   "execution_count": 2,
   "metadata": {},
   "outputs": [
    {
     "name": "stdout",
     "output_type": "stream",
     "text": [
      "   Temperature   Pressure        Speed       Output      Energy\n",
      "0    87.454012  21.615581  1565.175934  1021.516381  381.864670\n",
      "1   145.071431  20.539433  1917.353181  1299.152091  487.255853\n",
      "2   123.199394  17.020739  1198.430996   893.204779  326.386002\n",
      "3   109.865848  19.864253  1893.674051  1233.159077  466.351213\n",
      "4    65.601864  17.301933  1406.162699   881.276156  334.871419\n"
     ]
    }
   ],
   "source": [
    "import numpy as np\n",
    "import pandas as pd\n",
    "\n",
    "# Set random seed for reproducibility\n",
    "np.random.seed(42)\n",
    "\n",
    "# Number of data points\n",
    "num_samples = 100000\n",
    "\n",
    "# Generate synthetic data\n",
    "temperature = np.random.uniform(50, 150, num_samples)    # Temperature range: 50-150\n",
    "pressure = np.random.uniform(10, 30, num_samples)       # Pressure range: 10-30\n",
    "speed = np.random.uniform(1000, 3000, num_samples)      # Speed range: 1000-3000\n",
    "\n",
    "# Assuming linear relationship for output and energy\n",
    "# Output = f(Temperature, Pressure, Speed) + random noise\n",
    "output = 2 * temperature + 3 * pressure + 0.5 * speed + np.random.normal(0, 10, num_samples)\n",
    "energy = 0.5 * temperature + 1.5 * pressure + 0.2 * speed + np.random.normal(0, 5, num_samples)\n",
    "\n",
    "# Create a DataFrame\n",
    "df = pd.DataFrame({\n",
    "    'Temperature': temperature,\n",
    "    'Pressure': pressure,\n",
    "    'Speed': speed,\n",
    "    'Output': output,\n",
    "    'Energy': energy\n",
    "})\n",
    "\n",
    "# Save the synthetic data to a CSV file\n",
    "df.to_csv('equipment_data.csv', index=False)\n",
    "\n",
    "# Display first few rows of the generated data\n",
    "print(df.head())\n"
   ]
  },
  {
   "cell_type": "code",
   "execution_count": 3,
   "metadata": {},
   "outputs": [
    {
     "name": "stdout",
     "output_type": "stream",
     "text": [
      "   Temperature   Pressure        Speed       Output      Energy\n",
      "0    87.454012  21.615581  1565.175934  1021.516381  381.864670\n",
      "1   145.071431  20.539433  1917.353181  1299.152091  487.255853\n",
      "2   123.199394  17.020739  1198.430996   893.204779  326.386002\n",
      "3   109.865848  19.864253  1893.674051  1233.159077  466.351213\n",
      "4    65.601864  17.301933  1406.162699   881.276156  334.871419\n",
      "<class 'pandas.core.frame.DataFrame'>\n",
      "RangeIndex: 100000 entries, 0 to 99999\n",
      "Data columns (total 5 columns):\n",
      " #   Column       Non-Null Count   Dtype  \n",
      "---  ------       --------------   -----  \n",
      " 0   Temperature  100000 non-null  float64\n",
      " 1   Pressure     100000 non-null  float64\n",
      " 2   Speed        100000 non-null  float64\n",
      " 3   Output       100000 non-null  float64\n",
      " 4   Energy       100000 non-null  float64\n",
      "dtypes: float64(5)\n",
      "memory usage: 3.8 MB\n",
      "None\n"
     ]
    }
   ],
   "source": [
    "import pandas as pd\n",
    "\n",
    "# Load the dataset\n",
    "df = pd.read_csv('equipment_data.csv')\n",
    "\n",
    "# Display first few rows and check for any missing values\n",
    "print(df.head())\n",
    "print(df.info())\n"
   ]
  },
  {
   "cell_type": "code",
   "execution_count": 4,
   "metadata": {},
   "outputs": [
    {
     "name": "stdout",
     "output_type": "stream",
     "text": [
      "Linear Regression - Mean Squared Error: 101.00909375504264\n",
      "\n",
      "Decision Tree - Mean Squared Error: 227.84124930804515\n",
      "Decision Tree - Feature Importances: [0.03840654 0.00380376 0.9577897 ]\n",
      "\n",
      "Random Forest - Mean Squared Error: 120.97646266827604\n",
      "Random Forest - Feature Importances: [0.03832778 0.00374041 0.95793181]\n",
      "\n"
     ]
    }
   ],
   "source": [
    "from sklearn.model_selection import train_test_split\n",
    "from sklearn.linear_model import LinearRegression\n",
    "from sklearn.tree import DecisionTreeRegressor\n",
    "from sklearn.ensemble import RandomForestRegressor\n",
    "from sklearn.metrics import mean_squared_error\n",
    "\n",
    "# Select features and target\n",
    "X = df[['Temperature', 'Pressure', 'Speed']]\n",
    "y = df['Output']\n",
    "\n",
    "# Split data into training and testing sets\n",
    "X_train, X_test, y_train, y_test = train_test_split(X, y, test_size=0.2, random_state=42)\n",
    "\n",
    "# Initialize models\n",
    "models = {\n",
    "    'Linear Regression': LinearRegression(),\n",
    "    'Decision Tree': DecisionTreeRegressor(random_state=42),\n",
    "    'Random Forest': RandomForestRegressor(random_state=42)\n",
    "}\n",
    "\n",
    "# Train and evaluate each model\n",
    "for name, model in models.items():\n",
    "    # Train the model\n",
    "    model.fit(X_train, y_train)\n",
    "    \n",
    "    # Predict on test data\n",
    "    y_pred = model.predict(X_test)\n",
    "    \n",
    "    # Evaluate the model\n",
    "    mse = mean_squared_error(y_test, y_pred)\n",
    "    print(f'{name} - Mean Squared Error: {mse}')\n",
    "\n",
    "    # Print feature importances (if applicable)\n",
    "    if name == 'Decision Tree' or name == 'Random Forest':\n",
    "        print(f'{name} - Feature Importances:', model.feature_importances_)\n",
    "    \n",
    "    print()  # Just for separating model outputs\n"
   ]
  },
  {
   "cell_type": "code",
   "execution_count": 10,
   "metadata": {},
   "outputs": [
    {
     "name": "stdout",
     "output_type": "stream",
     "text": [
      "Note: you may need to restart the kernel to use updated packages.\n"
     ]
    },
    {
     "name": "stderr",
     "output_type": "stream",
     "text": [
      "\n",
      "[notice] A new release of pip is available: 23.2.1 -> 24.1.2\n",
      "[notice] To update, run: python.exe -m pip install --upgrade pip\n"
     ]
    },
    {
     "name": "stdout",
     "output_type": "stream",
     "text": [
      "Collecting bayesian-optimization\n",
      "  Obtaining dependency information for bayesian-optimization from https://files.pythonhosted.org/packages/af/f6/adfa3c95b1d910f9102e6ed1babbe458497ff7707f540b091dbf66631df9/bayesian_optimization-1.5.0-py3-none-any.whl.metadata\n",
      "  Downloading bayesian_optimization-1.5.0-py3-none-any.whl.metadata (16 kB)\n",
      "Requirement already satisfied: colorama<0.5.0,>=0.4.6 in c:\\users\\admin451\\appdata\\roaming\\python\\python311\\site-packages (from bayesian-optimization) (0.4.6)\n",
      "Requirement already satisfied: numpy<2.0.0,>=1.9.0 in c:\\users\\admin451\\appdata\\local\\programs\\python\\python311\\lib\\site-packages (from bayesian-optimization) (1.23.5)\n",
      "Requirement already satisfied: scikit-learn<2.0.0,>=1.0.0 in c:\\users\\admin451\\appdata\\local\\programs\\python\\python311\\lib\\site-packages (from bayesian-optimization) (1.1.3)\n",
      "Requirement already satisfied: scipy<2.0.0,>=1.0.0 in c:\\users\\admin451\\appdata\\local\\programs\\python\\python311\\lib\\site-packages (from bayesian-optimization) (1.9.3)\n",
      "Requirement already satisfied: joblib>=1.0.0 in c:\\users\\admin451\\appdata\\local\\programs\\python\\python311\\lib\\site-packages (from scikit-learn<2.0.0,>=1.0.0->bayesian-optimization) (1.1.1)\n",
      "Requirement already satisfied: threadpoolctl>=2.0.0 in c:\\users\\admin451\\appdata\\local\\programs\\python\\python311\\lib\\site-packages (from scikit-learn<2.0.0,>=1.0.0->bayesian-optimization) (3.1.0)\n",
      "Downloading bayesian_optimization-1.5.0-py3-none-any.whl (28 kB)\n",
      "Installing collected packages: bayesian-optimization\n",
      "Successfully installed bayesian-optimization-1.5.0\n"
     ]
    }
   ],
   "source": [
    "pip install -U bayesian-optimization"
   ]
  },
  {
   "cell_type": "code",
   "execution_count": 11,
   "metadata": {},
   "outputs": [
    {
     "name": "stdout",
     "output_type": "stream",
     "text": [
      "|   iter    |  target   | pressure  |   speed   | temper... |\n",
      "-------------------------------------------------------------\n",
      "| \u001b[30m1         | \u001b[30m-1.739e+0 | \u001b[30m17.49     | \u001b[30m2.901e+03 | \u001b[30m123.2     |\n",
      "| \u001b[35m2         | \u001b[35m-849.7    | \u001b[35m21.97     | \u001b[35m1.312e+03 | \u001b[35m65.6      |\n",
      "| \u001b[30m3         | \u001b[30m-1.618e+0 | \u001b[30m11.16     | \u001b[30m2.732e+03 | \u001b[30m110.1     |\n",
      "| \u001b[30m4         | \u001b[30m-888.5    | \u001b[30m24.16     | \u001b[30m1.041e+03 | \u001b[30m147.0     |\n",
      "| \u001b[30m5         | \u001b[30m-928.3    | \u001b[30m26.65     | \u001b[30m1.425e+03 | \u001b[30m68.18     |\n",
      "| \u001b[30m6         | \u001b[30m-1.049e+0 | \u001b[30m13.67     | \u001b[30m1.608e+03 | \u001b[30m102.5     |\n",
      "| \u001b[30m7         | \u001b[30m-1.076e+0 | \u001b[30m18.64     | \u001b[30m1.582e+03 | \u001b[30m111.2     |\n",
      "| \u001b[30m8         | \u001b[30m-1.001e+0 | \u001b[30m12.79     | \u001b[30m1.584e+03 | \u001b[30m86.64     |\n",
      "| \u001b[30m9         | \u001b[30m-1.486e+0 | \u001b[30m19.12     | \u001b[30m2.57e+03  | \u001b[30m69.97     |\n",
      "| \u001b[30m10        | \u001b[30m-1.267e+0 | \u001b[30m20.28     | \u001b[30m2.185e+03 | \u001b[30m54.65     |\n",
      "| \u001b[35m11        | \u001b[35m-643.9    | \u001b[35m10.0      | \u001b[35m1e+03     | \u001b[35m50.0      |\n"
     ]
    },
    {
     "name": "stderr",
     "output_type": "stream",
     "text": [
      "c:\\Users\\Admin451\\AppData\\Local\\Programs\\Python\\Python311\\Lib\\site-packages\\sklearn\\base.py:450: UserWarning: X does not have valid feature names, but RandomForestRegressor was fitted with feature names\n",
      "  warnings.warn(\n",
      "c:\\Users\\Admin451\\AppData\\Local\\Programs\\Python\\Python311\\Lib\\site-packages\\sklearn\\base.py:450: UserWarning: X does not have valid feature names, but RandomForestRegressor was fitted with feature names\n",
      "  warnings.warn(\n",
      "c:\\Users\\Admin451\\AppData\\Local\\Programs\\Python\\Python311\\Lib\\site-packages\\sklearn\\base.py:450: UserWarning: X does not have valid feature names, but RandomForestRegressor was fitted with feature names\n",
      "  warnings.warn(\n",
      "c:\\Users\\Admin451\\AppData\\Local\\Programs\\Python\\Python311\\Lib\\site-packages\\sklearn\\base.py:450: UserWarning: X does not have valid feature names, but RandomForestRegressor was fitted with feature names\n",
      "  warnings.warn(\n",
      "c:\\Users\\Admin451\\AppData\\Local\\Programs\\Python\\Python311\\Lib\\site-packages\\sklearn\\base.py:450: UserWarning: X does not have valid feature names, but RandomForestRegressor was fitted with feature names\n",
      "  warnings.warn(\n",
      "c:\\Users\\Admin451\\AppData\\Local\\Programs\\Python\\Python311\\Lib\\site-packages\\sklearn\\base.py:450: UserWarning: X does not have valid feature names, but RandomForestRegressor was fitted with feature names\n",
      "  warnings.warn(\n",
      "c:\\Users\\Admin451\\AppData\\Local\\Programs\\Python\\Python311\\Lib\\site-packages\\sklearn\\base.py:450: UserWarning: X does not have valid feature names, but RandomForestRegressor was fitted with feature names\n",
      "  warnings.warn(\n",
      "c:\\Users\\Admin451\\AppData\\Local\\Programs\\Python\\Python311\\Lib\\site-packages\\sklearn\\base.py:450: UserWarning: X does not have valid feature names, but RandomForestRegressor was fitted with feature names\n",
      "  warnings.warn(\n",
      "c:\\Users\\Admin451\\AppData\\Local\\Programs\\Python\\Python311\\Lib\\site-packages\\sklearn\\base.py:450: UserWarning: X does not have valid feature names, but RandomForestRegressor was fitted with feature names\n",
      "  warnings.warn(\n",
      "c:\\Users\\Admin451\\AppData\\Local\\Programs\\Python\\Python311\\Lib\\site-packages\\sklearn\\base.py:450: UserWarning: X does not have valid feature names, but RandomForestRegressor was fitted with feature names\n",
      "  warnings.warn(\n",
      "c:\\Users\\Admin451\\AppData\\Local\\Programs\\Python\\Python311\\Lib\\site-packages\\sklearn\\base.py:450: UserWarning: X does not have valid feature names, but RandomForestRegressor was fitted with feature names\n",
      "  warnings.warn(\n",
      "c:\\Users\\Admin451\\AppData\\Local\\Programs\\Python\\Python311\\Lib\\site-packages\\sklearn\\base.py:450: UserWarning: X does not have valid feature names, but RandomForestRegressor was fitted with feature names\n",
      "  warnings.warn(\n",
      "c:\\Users\\Admin451\\AppData\\Local\\Programs\\Python\\Python311\\Lib\\site-packages\\sklearn\\base.py:450: UserWarning: X does not have valid feature names, but RandomForestRegressor was fitted with feature names\n",
      "  warnings.warn(\n"
     ]
    },
    {
     "name": "stdout",
     "output_type": "stream",
     "text": [
      "| \u001b[30m12        | \u001b[30m-674.0    | \u001b[30m10.0      | \u001b[30m1.102e+03 | \u001b[30m50.0      |\n",
      "| \u001b[30m13        | \u001b[30m-695.9    | \u001b[30m30.0      | \u001b[30m1e+03     | \u001b[30m50.0      |\n"
     ]
    },
    {
     "name": "stderr",
     "output_type": "stream",
     "text": [
      "c:\\Users\\Admin451\\AppData\\Local\\Programs\\Python\\Python311\\Lib\\site-packages\\sklearn\\base.py:450: UserWarning: X does not have valid feature names, but RandomForestRegressor was fitted with feature names\n",
      "  warnings.warn(\n",
      "c:\\Users\\Admin451\\AppData\\Local\\Programs\\Python\\Python311\\Lib\\site-packages\\sklearn\\base.py:450: UserWarning: X does not have valid feature names, but RandomForestRegressor was fitted with feature names\n",
      "  warnings.warn(\n",
      "c:\\Users\\Admin451\\AppData\\Local\\Programs\\Python\\Python311\\Lib\\site-packages\\sklearn\\base.py:450: UserWarning: X does not have valid feature names, but RandomForestRegressor was fitted with feature names\n",
      "  warnings.warn(\n"
     ]
    },
    {
     "name": "stdout",
     "output_type": "stream",
     "text": [
      "| \u001b[30m14        | \u001b[30m-656.2    | \u001b[30m11.13     | \u001b[30m1.045e+03 | \u001b[30m51.79     |\n",
      "| \u001b[30m15        | \u001b[30m-929.5    | \u001b[30m26.48     | \u001b[30m1.426e+03 | \u001b[30m69.21     |\n",
      "| \u001b[30m16        | \u001b[30m-1.082e+0 | \u001b[30m10.0      | \u001b[30m1.873e+03 | \u001b[30m50.0      |\n"
     ]
    },
    {
     "name": "stderr",
     "output_type": "stream",
     "text": [
      "c:\\Users\\Admin451\\AppData\\Local\\Programs\\Python\\Python311\\Lib\\site-packages\\sklearn\\base.py:450: UserWarning: X does not have valid feature names, but RandomForestRegressor was fitted with feature names\n",
      "  warnings.warn(\n"
     ]
    },
    {
     "name": "stdout",
     "output_type": "stream",
     "text": [
      "| \u001b[30m17        | \u001b[30m-644.7    | \u001b[30m10.0      | \u001b[30m1.016e+03 | \u001b[30m50.0      |\n",
      "| \u001b[30m18        | \u001b[30m-644.7    | \u001b[30m10.0      | \u001b[30m1.016e+03 | \u001b[30m50.0      |\n",
      "| \u001b[30m19        | \u001b[30m-644.7    | \u001b[30m10.0      | \u001b[30m1.016e+03 | \u001b[30m50.0      |\n",
      "| \u001b[30m20        | \u001b[30m-644.7    | \u001b[30m10.0      | \u001b[30m1.016e+03 | \u001b[30m50.0      |\n",
      "| \u001b[30m21        | \u001b[30m-644.7    | \u001b[30m10.0      | \u001b[30m1.016e+03 | \u001b[30m50.0      |\n",
      "| \u001b[30m22        | \u001b[30m-644.7    | \u001b[30m10.0      | \u001b[30m1.016e+03 | \u001b[30m50.0      |\n",
      "| \u001b[30m23        | \u001b[30m-644.7    | \u001b[30m10.0      | \u001b[30m1.016e+03 | \u001b[30m50.0      |\n",
      "| \u001b[30m24        | \u001b[30m-644.7    | \u001b[30m10.0      | \u001b[30m1.016e+03 | \u001b[30m50.0      |\n",
      "| \u001b[30m25        | \u001b[30m-644.7    | \u001b[30m10.0      | \u001b[30m1.016e+03 | \u001b[30m50.0      |\n",
      "| \u001b[30m26        | \u001b[30m-644.7    | \u001b[30m10.0      | \u001b[30m1.016e+03 | \u001b[30m50.0      |\n",
      "| \u001b[30m27        | \u001b[30m-644.7    | \u001b[30m10.0      | \u001b[30m1.016e+03 | \u001b[30m50.0      |\n",
      "| \u001b[30m28        | \u001b[30m-644.7    | \u001b[30m10.0      | \u001b[30m1.016e+03 | \u001b[30m50.0      |\n",
      "| \u001b[30m29        | \u001b[30m-644.7    | \u001b[30m10.0      | \u001b[30m1.016e+03 | \u001b[30m50.0      |\n",
      "| \u001b[30m30        | \u001b[30m-644.7    | \u001b[30m10.0      | \u001b[30m1.016e+03 | \u001b[30m50.0      |\n",
      "| \u001b[30m31        | \u001b[30m-644.7    | \u001b[30m10.0      | \u001b[30m1.016e+03 | \u001b[30m50.0      |\n",
      "| \u001b[30m32        | \u001b[30m-644.7    | \u001b[30m10.0      | \u001b[30m1.016e+03 | \u001b[30m50.0      |\n",
      "| \u001b[30m33        | \u001b[30m-644.7    | \u001b[30m10.0      | \u001b[30m1.016e+03 | \u001b[30m50.0      |\n",
      "| \u001b[30m34        | \u001b[30m-644.7    | \u001b[30m10.0      | \u001b[30m1.016e+03 | \u001b[30m50.0      |\n",
      "| \u001b[30m35        | \u001b[30m-644.7    | \u001b[30m10.0      | \u001b[30m1.016e+03 | \u001b[30m50.0      |\n",
      "| \u001b[30m36        | \u001b[30m-644.7    | \u001b[30m10.0      | \u001b[30m1.016e+03 | \u001b[30m50.0      |\n",
      "| \u001b[30m37        | \u001b[30m-644.7    | \u001b[30m10.0      | \u001b[30m1.016e+03 | \u001b[30m50.0      |\n",
      "| \u001b[30m38        | \u001b[30m-644.7    | \u001b[30m10.0      | \u001b[30m1.016e+03 | \u001b[30m50.0      |\n",
      "| \u001b[30m39        | \u001b[30m-644.7    | \u001b[30m10.0      | \u001b[30m1.016e+03 | \u001b[30m50.0      |\n",
      "| \u001b[30m40        | \u001b[30m-644.7    | \u001b[30m10.0      | \u001b[30m1.016e+03 | \u001b[30m50.0      |\n",
      "| \u001b[30m41        | \u001b[30m-644.7    | \u001b[30m10.0      | \u001b[30m1.016e+03 | \u001b[30m50.0      |\n",
      "| \u001b[30m42        | \u001b[30m-644.7    | \u001b[30m10.0      | \u001b[30m1.016e+03 | \u001b[30m50.0      |\n",
      "| \u001b[30m43        | \u001b[30m-644.7    | \u001b[30m10.0      | \u001b[30m1.016e+03 | \u001b[30m50.0      |\n",
      "| \u001b[30m44        | \u001b[30m-644.7    | \u001b[30m10.0      | \u001b[30m1.016e+03 | \u001b[30m50.0      |\n",
      "| \u001b[30m45        | \u001b[30m-644.7    | \u001b[30m10.0      | \u001b[30m1.016e+03 | \u001b[30m50.0      |\n",
      "| \u001b[30m46        | \u001b[30m-644.7    | \u001b[30m10.0      | \u001b[30m1.016e+03 | \u001b[30m50.0      |\n",
      "| \u001b[30m47        | \u001b[30m-644.7    | \u001b[30m10.0      | \u001b[30m1.016e+03 | \u001b[30m50.0      |\n",
      "| \u001b[30m48        | \u001b[30m-644.7    | \u001b[30m10.0      | \u001b[30m1.016e+03 | \u001b[30m50.0      |\n",
      "| \u001b[30m49        | \u001b[30m-644.7    | \u001b[30m10.0      | \u001b[30m1.016e+03 | \u001b[30m50.0      |\n",
      "| \u001b[30m50        | \u001b[30m-644.7    | \u001b[30m10.0      | \u001b[30m1.016e+03 | \u001b[30m50.0      |\n",
      "| \u001b[30m51        | \u001b[30m-644.7    | \u001b[30m10.0      | \u001b[30m1.016e+03 | \u001b[30m50.0      |\n",
      "| \u001b[30m52        | \u001b[30m-644.7    | \u001b[30m10.0      | \u001b[30m1.016e+03 | \u001b[30m50.0      |\n",
      "| \u001b[30m53        | \u001b[30m-644.7    | \u001b[30m10.0      | \u001b[30m1.016e+03 | \u001b[30m50.0      |\n",
      "| \u001b[30m54        | \u001b[30m-644.7    | \u001b[30m10.0      | \u001b[30m1.016e+03 | \u001b[30m50.0      |\n",
      "| \u001b[30m55        | \u001b[30m-644.7    | \u001b[30m10.0      | \u001b[30m1.016e+03 | \u001b[30m50.0      |\n",
      "| \u001b[30m56        | \u001b[30m-644.7    | \u001b[30m10.0      | \u001b[30m1.016e+03 | \u001b[30m50.0      |\n",
      "| \u001b[30m57        | \u001b[30m-644.7    | \u001b[30m10.0      | \u001b[30m1.016e+03 | \u001b[30m50.0      |\n",
      "| \u001b[30m58        | \u001b[30m-644.7    | \u001b[30m10.0      | \u001b[30m1.016e+03 | \u001b[30m50.0      |\n",
      "| \u001b[30m59        | \u001b[30m-644.7    | \u001b[30m10.0      | \u001b[30m1.016e+03 | \u001b[30m50.0      |\n",
      "| \u001b[30m60        | \u001b[30m-644.7    | \u001b[30m10.0      | \u001b[30m1.016e+03 | \u001b[30m50.0      |\n",
      "=============================================================\n",
      "Bayesian Optimization - Optimized Settings:\n",
      "Temperature: 50.0005536675738\n",
      "Pressure: 10.000095572183264\n",
      "Speed: 1000.0045963652362\n"
     ]
    }
   ],
   "source": [
    "from bayes_opt import BayesianOptimization\n",
    "import numpy as np\n",
    "\n",
    "# Define function to maximize output prediction\n",
    "def predict_output_bayesian(temperature, pressure, speed):\n",
    "    return -model.predict([[temperature, pressure, speed]])[0]\n",
    "\n",
    "# Define bounds for Bayesian Optimization\n",
    "pbounds = {'temperature': (min(df['Temperature']), max(df['Temperature'])),\n",
    "           'pressure': (min(df['Pressure']), max(df['Pressure'])),\n",
    "           'speed': (min(df['Speed']), max(df['Speed']))}\n",
    "\n",
    "# Initialize Bayesian Optimization\n",
    "optimizer = BayesianOptimization(\n",
    "    f=predict_output_bayesian,\n",
    "    pbounds=pbounds,\n",
    "    random_state=42,\n",
    ")\n",
    "\n",
    "# Perform optimization\n",
    "optimizer.maximize(init_points=10, n_iter=50)\n",
    "\n",
    "# Get the best parameters\n",
    "best_params = optimizer.max['params']\n",
    "best_temperature = best_params['temperature']\n",
    "best_pressure = best_params['pressure']\n",
    "best_speed = best_params['speed']\n",
    "\n",
    "# Print optimized settings\n",
    "print('Bayesian Optimization - Optimized Settings:')\n",
    "print('Temperature:', best_temperature)\n",
    "print('Pressure:', best_pressure)\n",
    "print('Speed:', best_speed)\n"
   ]
  },
  {
   "cell_type": "code",
   "execution_count": null,
   "metadata": {},
   "outputs": [],
   "source": []
  }
 ],
 "metadata": {
  "kernelspec": {
   "display_name": "Python 3",
   "language": "python",
   "name": "python3"
  },
  "language_info": {
   "codemirror_mode": {
    "name": "ipython",
    "version": 3
   },
   "file_extension": ".py",
   "mimetype": "text/x-python",
   "name": "python",
   "nbconvert_exporter": "python",
   "pygments_lexer": "ipython3",
   "version": "3.11.3"
  }
 },
 "nbformat": 4,
 "nbformat_minor": 2
}
